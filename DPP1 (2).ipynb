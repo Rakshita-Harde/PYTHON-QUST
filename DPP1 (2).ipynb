{
 "cells": [
  {
   "cell_type": "code",
   "execution_count": 5,
   "id": "159f7373-4d42-4833-8514-09cb955a9081",
   "metadata": {},
   "outputs": [
    {
     "name": "stdin",
     "output_type": "stream",
     "text": [
      "Enter a number  21\n"
     ]
    },
    {
     "name": "stdout",
     "output_type": "stream",
     "text": [
      "condition not satisfied\n"
     ]
    }
   ],
   "source": [
    "#1. Check whether a given number n is both a multiple of 3 and 5, but not divisible by 7.\n",
    "\n",
    "n = int(input(\"Enter a number \"))\n",
    "\n",
    "if(n % 3 == 0 and n % 5 == 0 ) and (n % 7 != 0):\n",
    " print(\"this num is divisible by both 3,5 but not 7\",n)\n",
    "\n",
    "else:\n",
    " print(\"condition not satisfied\")"
   ]
  },
  {
   "cell_type": "code",
   "execution_count": 35,
   "id": "53b9b043-ff43-417a-bd31-6b65b69b329a",
   "metadata": {},
   "outputs": [
    {
     "name": "stdin",
     "output_type": "stream",
     "text": [
      "Enter the bill amount 4200\n"
     ]
    },
    {
     "name": "stdout",
     "output_type": "stream",
     "text": [
      "your bill after discount is: 3780.0\n"
     ]
    }
   ],
   "source": [
    "'''2. A store has a discount policy:\n",
    "• If the bill > ₹5000, give 20% discount\n",
    "• If bill is between ₹2500 and ₹5000, give 10% discount\n",
    "• If bill is below ₹2500 but above ₹1000, give 5% discount\n",
    "• No discount otherwise\n",
    "Write a program to compute the final payable amount.'''\n",
    "\n",
    "\n",
    "bill = int(input(\"Enter the bill amount\"))\n",
    "order = bill\n",
    "if (order > 5000):\n",
    "    discount = order*0.2\n",
    "    final_bill = order - discount\n",
    "    print(\"your bill after discount is:\",final_bill)\n",
    "elif order >= 2500 and order <= 5000 :\n",
    "     discount = order*0.1\n",
    "     final_bill = order - discount\n",
    "     print(\"your bill after discount is:\",final_bill)\n",
    "elif order >= 1000 and order <= 2500 :\n",
    "     discount = order*0.05\n",
    "     final_bill = order - discount\n",
    "     print(\"your bill after discount is:\",final_bill)\n",
    "else:\n",
    "     print(\"Discount is valid only for bill over 1000\",order)\n"
   ]
  },
  {
   "cell_type": "code",
   "execution_count": 39,
   "id": "5edf512f-f19f-4d98-800d-3a04adf65546",
   "metadata": {},
   "outputs": [
    {
     "name": "stdout",
     "output_type": "stream",
     "text": [
      "53\n",
      "59\n",
      "61\n",
      "67\n",
      "71\n",
      "73\n",
      "79\n",
      "83\n",
      "89\n",
      "97\n"
     ]
    }
   ],
   "source": [
    "#3. Print all prime numbers between 50 and 100.\n",
    "\n",
    "\n",
    "for num in range(50, 101):\n",
    "    for i in range(2, num):\n",
    "        if num % i == 0:\n",
    "            break\n",
    "    else:\n",
    "        print(num)"
   ]
  },
  {
   "cell_type": "code",
   "execution_count": 49,
   "id": "6b080011-1cf6-40f7-b251-b01a64ce3ec2",
   "metadata": {},
   "outputs": [
    {
     "name": "stdin",
     "output_type": "stream",
     "text": [
      "Enter the percentage of attendance 25\n",
      "Enter the internal score 40\n",
      "Enter the number of failed subject 0\n"
     ]
    },
    {
     "name": "stdout",
     "output_type": "stream",
     "text": [
      "you are elgible for the certificate\n"
     ]
    }
   ],
   "source": [
    "'''4. A student is eligible for a certificate only if:\n",
    "• Attendance is above 75%\n",
    "• Internal score > 35\n",
    "• Has not failed in any subject\n",
    "Write a decision-making program for the same'''\n",
    "\n",
    "\n",
    "attendance = float(input(\"Enter the percentage of attendance\"))\n",
    "internal = int(input(\"Enter the internal score\"))\n",
    "subject = int(input(\"Enter the number of failed subject\"))\n",
    "\n",
    "if attendance < 75 and  internal >35 and  subject == 0:\n",
    "    print(\"you are elgible for the certificate\")\n",
    "else:\n",
    "    print(\"you are elgible for the certificate\")\n",
    "                     "
   ]
  },
  {
   "cell_type": "code",
   "execution_count": 65,
   "id": "b97f395a-25cd-4c3b-9b44-00486960fb3b",
   "metadata": {},
   "outputs": [
    {
     "name": "stdin",
     "output_type": "stream",
     "text": [
      " How's your mood today choose among (Happy, Sad, Angry, Excited) Sad\n"
     ]
    },
    {
     "name": "stdout",
     "output_type": "stream",
     "text": [
      "≡(▔﹏▔)≡  its  ok to feel sad , try some music\n"
     ]
    }
   ],
   "source": [
    "#5. Create a mini \"Mood Bot\" that accepts a user's mood input (Happy, Sad, Angry, Excited) and responds with a suitable message.\n",
    "\n",
    "mood = input(\" How's your mood today choose among (Happy, Sad, Angry, Excited)\").strip()\n",
    "\n",
    "if mood == \"Happy\" :\n",
    "  print (\"(❁´◡`❁) Great , keep smiling\")\n",
    "\n",
    "elif mood == \"Sad\" :\n",
    "  print(\"≡(▔﹏▔)≡  its  ok to feel sad , try some music\")\n",
    "\n",
    "elif mood == \"Angry\":\n",
    "  print(\"╚(•⌂•)╝  anger is not good for health ...keep clam \")\n",
    "\n",
    "elif mood == \"Excited\": \n",
    "  print(\"༼ つ ◕_◕ ༽つ great share with me what are you excited about\")\n",
    "\n",
    "else:\n",
    "  print(\"ㄟ( ▔, ▔ )ㄏ hope you are doing great\")"
   ]
  },
  {
   "cell_type": "code",
   "execution_count": null,
   "id": "339eee0c-3d8f-4264-a5cc-a365b9ff9237",
   "metadata": {},
   "outputs": [],
   "source": [
    "#6. Given a list of numbers, check if any number is divisible by both 4 and 6 using a loop and logical operators."
   ]
  },
  {
   "cell_type": "code",
   "execution_count": 18,
   "id": "b8611b4a-4861-468a-be85-3d4e2cdac8a5",
   "metadata": {},
   "outputs": [
    {
     "name": "stdin",
     "output_type": "stream",
     "text": [
      "Enter your weight in kg:  40\n",
      "Enter your height in meters:  1\n"
     ]
    },
    {
     "name": "stdout",
     "output_type": "stream",
     "text": [
      "Your BMI is: 40.0\n",
      "You are Obese.\n"
     ]
    }
   ],
   "source": [
    "'''7. Build a BMI calculator that takes weight and height, computes BMI, and classifies as:\n",
    "• Underweight\n",
    "• Normal\n",
    "• Overweight\n",
    "• Obese'''\n",
    "\n",
    "weight = float(input(\"Enter your weight in kg: \"))\n",
    "height = float(input(\"Enter your height in meters: \"))\n",
    "\n",
    "bmi = weight / (height ** 2)\n",
    "\n",
    "print(\"Your BMI is:\" ,bmi)\n",
    "\n",
    "\n",
    "if bmi < 18.5:\n",
    "    print(\"You are Underweight.\")\n",
    "elif 18.5 <= bmi < 25:\n",
    "    print(\"You are Normal weight.\")\n",
    "elif 25 <= bmi < 30:\n",
    "    print(\"You are Overweight.\")\n",
    "else:\n",
    "    print(\"You are Obese.\")"
   ]
  },
  {
   "cell_type": "code",
   "execution_count": 75,
   "id": "52bb98cb-c475-48e9-8a32-28ba31368dcb",
   "metadata": {},
   "outputs": [
    {
     "name": "stdout",
     "output_type": "stream",
     "text": [
      "\n",
      "--- Mini ATM ---\n",
      "1. Check Balance\n",
      "2. Deposit\n",
      "3. Withdraw\n",
      "4. Exit\n"
     ]
    },
    {
     "name": "stdin",
     "output_type": "stream",
     "text": [
      "Choose an option (1-4):  3\n",
      "Enter amount to withdraw: ₹ 10000\n"
     ]
    },
    {
     "name": "stdout",
     "output_type": "stream",
     "text": [
      " withdrawn successfully!\n",
      "\n",
      "--- Mini ATM ---\n",
      "1. Check Balance\n",
      "2. Deposit\n",
      "3. Withdraw\n",
      "4. Exit\n"
     ]
    },
    {
     "name": "stdin",
     "output_type": "stream",
     "text": [
      "Choose an option (1-4):  2\n",
      "Enter amount to deposit: ₹ 520\n"
     ]
    },
    {
     "name": "stdout",
     "output_type": "stream",
     "text": [
      " deposited successfully!\n",
      "\n",
      "--- Mini ATM ---\n",
      "1. Check Balance\n",
      "2. Deposit\n",
      "3. Withdraw\n",
      "4. Exit\n"
     ]
    },
    {
     "name": "stdin",
     "output_type": "stream",
     "text": [
      "Choose an option (1-4):  9\n"
     ]
    },
    {
     "name": "stdout",
     "output_type": "stream",
     "text": [
      "Invalid choice. Please try again.\n",
      "\n",
      "--- Mini ATM ---\n",
      "1. Check Balance\n",
      "2. Deposit\n",
      "3. Withdraw\n",
      "4. Exit\n"
     ]
    },
    {
     "name": "stdin",
     "output_type": "stream",
     "text": [
      "Choose an option (1-4):  55\n"
     ]
    },
    {
     "name": "stdout",
     "output_type": "stream",
     "text": [
      "Invalid choice. Please try again.\n",
      "\n",
      "--- Mini ATM ---\n",
      "1. Check Balance\n",
      "2. Deposit\n",
      "3. Withdraw\n",
      "4. Exit\n"
     ]
    },
    {
     "name": "stdin",
     "output_type": "stream",
     "text": [
      "Choose an option (1-4):  5\n"
     ]
    },
    {
     "name": "stdout",
     "output_type": "stream",
     "text": [
      "Invalid choice. Please try again.\n",
      "\n",
      "--- Mini ATM ---\n",
      "1. Check Balance\n",
      "2. Deposit\n",
      "3. Withdraw\n",
      "4. Exit\n"
     ]
    },
    {
     "name": "stdin",
     "output_type": "stream",
     "text": [
      "Choose an option (1-4):  1\n"
     ]
    },
    {
     "name": "stdout",
     "output_type": "stream",
     "text": [
      "Your current balance is: 520.0\n",
      "\n",
      "--- Mini ATM ---\n",
      "1. Check Balance\n",
      "2. Deposit\n",
      "3. Withdraw\n",
      "4. Exit\n"
     ]
    },
    {
     "name": "stdin",
     "output_type": "stream",
     "text": [
      "Choose an option (1-4):  4\n"
     ]
    },
    {
     "name": "stdout",
     "output_type": "stream",
     "text": [
      "Thank you for using the ATM. Goodbye!\n"
     ]
    }
   ],
   "source": [
    "'''8. Build a mini ATM simulation:\n",
    "• Start with a balance of ₹10,000\n",
    "• Let user withdraw, deposit, or check balance\n",
    "• Use loops and conditionals to simulate multiple operations'''\n",
    "\n",
    "balance = 10000  \n",
    "\n",
    "while True:\n",
    "    print(\"\\n--- Mini ATM ---\")\n",
    "    print(\"1. Check Balance\")\n",
    "    print(\"2. Deposit\")\n",
    "    print(\"3. Withdraw\")\n",
    "    print(\"4. Exit\")\n",
    "\n",
    "    choice = input(\"Choose an option (1-4): \")\n",
    "\n",
    "    if choice == '1':\n",
    "        print(f\"Your current balance is:\", balance)\n",
    "    \n",
    "    elif choice == '2':\n",
    "        amount = float(input(\"Enter amount to deposit: ₹\"))\n",
    "        if amount > 0:\n",
    "            balance += amount\n",
    "            print(\" deposited successfully!\")\n",
    "        else:\n",
    "            print(\"Invalid deposit amount.\")\n",
    "    \n",
    "    elif choice == '3':\n",
    "        amount = float(input(\"Enter amount to withdraw: ₹\"))\n",
    "        if amount > 0:\n",
    "            if amount <= balance:\n",
    "                balance -= amount\n",
    "                print(\" withdrawn successfully!\")\n",
    "            else:\n",
    "                print(\"Insufficient balance.\")\n",
    "        else:\n",
    "            print(\"Invalid withdrawal amount.\")\n",
    "    \n",
    "    elif choice == '4':\n",
    "        print(\"Thank you for using the ATM. Goodbye!\")\n",
    "        \n",
    "        break\n",
    "    \n",
    "    else:\n",
    "        print(\"Invalid choice. Please try again.\")\n"
   ]
  },
  {
   "cell_type": "code",
   "execution_count": 16,
   "id": "03c9e827-2c5e-443e-9a28-489e821d27dc",
   "metadata": {},
   "outputs": [
    {
     "name": "stdin",
     "output_type": "stream",
     "text": [
      "Enter number to check if it is armstrong 153\n"
     ]
    },
    {
     "name": "stdout",
     "output_type": "stream",
     "text": [
      "Number is armstrong\n"
     ]
    }
   ],
   "source": [
    "#9. Write a program to check whether a number is Armstrong (e.g., 153 → 1³ + 5³ + 3³ = 153).\n",
    "\n",
    "number = input(\"Enter number to check if it is armstrong\")\n",
    "a = 0\n",
    "for digit in number:\n",
    "    digit = int(digit)\n",
    "    a = a+ pow(digit,3)\n",
    "    \n",
    "if int(number) == a:\n",
    "    print (\"Number is armstrong\")\n",
    "\n",
    "else:\n",
    "    print (\"Number is not armstrong\")"
   ]
  },
  {
   "cell_type": "code",
   "execution_count": null,
   "id": "5d7314ce-cb9d-435c-9879-b627e1b85b74",
   "metadata": {},
   "outputs": [],
   "source": [
    "#10. Write a program to check if a number is Kaprekar (e.g., 45² = 2025 → 20 + 25 = 45).\n"
   ]
  },
  {
   "cell_type": "code",
   "execution_count": 10,
   "id": "d0ee3f36-85db-4553-90dd-728f0b84895e",
   "metadata": {},
   "outputs": [
    {
     "name": "stdout",
     "output_type": "stream",
     "text": [
      "Rock-Paper-Scissors Game!\n"
     ]
    },
    {
     "name": "stdin",
     "output_type": "stream",
     "text": [
      "Player 1 (rock/paper/scissors):  rock\n",
      "Player 2 (rock/paper/scissors):  scissors\n"
     ]
    },
    {
     "name": "stdout",
     "output_type": "stream",
     "text": [
      "Player 1 wins!\n"
     ]
    }
   ],
   "source": [
    "#11. Simulate a rock-paper-scissors game for 2 users using conditionals and loops\n",
    "while True:\n",
    "    print(\"Rock-Paper-Scissors Game!\")\n",
    "    \n",
    "    user1 = input(\"Player 1 (rock/paper/scissors): \").lower()\n",
    "    user2 = input(\"Player 2 (rock/paper/scissors): \").lower()\n",
    "    \n",
    "    if user1 == user2:\n",
    "        print(\"It's a tie!\")\n",
    "        break\n",
    "    \n",
    "    elif (user1 == 'rock' and user2 == 'scissors') or \\\n",
    "         (user1 == 'scissors' and user2 == 'paper') or \\\n",
    "         (user1 == 'paper' and user2 == 'rock'):\n",
    "        print(\"Player 1 wins!\")\n",
    "        break\n",
    "    \n",
    "    elif (user2 == 'rock' and user1 == 'scissors') or \\\n",
    "         (user2 == 'scissors' and user1 == 'paper') or \\\n",
    "         (user2 == 'paper' and user1 == 'rock'):\n",
    "        print(\"Player 2 wins!\")\n",
    "        break\n",
    "    \n",
    "    else:\n",
    "        print(\"Invalid input from one or both players.\")\n",
    "        break\n",
    "\n"
   ]
  },
  {
   "cell_type": "code",
   "execution_count": 12,
   "id": "e550b45d-47c5-492f-81c5-e5ef397958b3",
   "metadata": {},
   "outputs": [
    {
     "name": "stdin",
     "output_type": "stream",
     "text": [
      "Enter elements of list 1 (space-separated):  1 1 2 5 4\n",
      "Enter elements of list 2 (space-separated):  1 2 4 5\n"
     ]
    },
    {
     "name": "stdout",
     "output_type": "stream",
     "text": [
      "Both lists contain the same set of elements.\n"
     ]
    }
   ],
   "source": [
    "#12. Input two lists and compare whether their set of elements (regardless of order and duplicates)are the same using operators.\n",
    "\n",
    "list1 = input(\"Enter elements of list 1 (space-separated): \").split()\n",
    "list2 = input(\"Enter elements of list 2 (space-separated): \").split()\n",
    "\n",
    "set1 = set(list1)\n",
    "set2 = set(list2)\n",
    "\n",
    "if set1 == set2:\n",
    "    print(\"Both lists contain the same set of elements.\")\n",
    "else:\n",
    "    print(\"The lists do not contain the same set of elements.\")"
   ]
  },
  {
   "cell_type": "code",
   "execution_count": 22,
   "id": "0e56b4b0-e9dc-4dcc-a7ae-29d0ee674e44",
   "metadata": {},
   "outputs": [
    {
     "name": "stdout",
     "output_type": "stream",
     "text": [
      "Starting amount: 1000\n",
      "Year 1: ₹1100.00\n",
      "Year 2: ₹1210.00\n",
      "Year 3: ₹1331.00\n",
      "Year 4: ₹1464.10\n",
      "Year 5: ₹1610.51\n",
      "Year 6: ₹1771.56\n",
      "Year 7: ₹1948.72\n",
      "Year 8: ₹2143.59\n"
     ]
    }
   ],
   "source": [
    "'''13. Create a step-wise interest calculator using a loop:\n",
    "• ₹1000 initial amount\n",
    "• 10% interest per year\n",
    "• Until it doubles → print value per year'''\n",
    "\n",
    "amount = 1000\n",
    "year = 0\n",
    "\n",
    "print(\"Starting amount:\", amount)\n",
    "\n",
    "while amount < 2000:\n",
    "    year = year + 1\n",
    "    interest = amount * 0.10\n",
    "    amount += interest\n",
    "    print(f\"Year {year}: ₹{amount:.2f}\")"
   ]
  },
  {
   "cell_type": "code",
   "execution_count": null,
   "id": "2215e4b4-190e-4260-9493-207df1a4eba4",
   "metadata": {},
   "outputs": [],
   "source": [
    "'''14. Ask the user to guess a 4-digit PIN. Allow 3 tries.\n",
    "• If correct: print “Unlocked”\n",
    "• If wrong all attempts: print “Access Denied”'''\n",
    "\n",
    "correct_pin = \"1234\"  \n",
    "tries = 0\n",
    "\n",
    "while tries < 3:\n",
    "    pin = input(\"Enter your 4-digit PIN: \")\n",
    "\n",
    "    if pin == correct_pin\n",
    "        print(\"Unlocked 🔓\")\n",
    "        break\n",
    "    else:\n",
    "        print(\"Incorrect PIN.\")\n",
    "        tries = tries + 1\n",
    "\n",
    "if tries == 3:\n",
    "    print(\"Access Denied 🔒\")"
   ]
  },
  {
   "cell_type": "code",
   "execution_count": 34,
   "id": "27b3c30f-1e3f-4ab9-8606-3c10aaf941ea",
   "metadata": {},
   "outputs": [
    {
     "name": "stdin",
     "output_type": "stream",
     "text": [
      "Enter number 1:  1\n",
      "Enter number 2:  2\n",
      "Enter number 3:  3\n",
      "Enter number 4:  4\n",
      "Enter number 5:  5\n",
      "Enter number 6:  6\n",
      "Enter number 7:  7\n",
      "Enter number 8:  8\n",
      "Enter number 9:  9\n",
      "Enter number 10:  10\n"
     ]
    },
    {
     "name": "stdout",
     "output_type": "stream",
     "text": [
      "Sum of only odd numbers: 25\n",
      "Product of even numbers: 3840\n"
     ]
    }
   ],
   "source": [
    "'''15. Take 10 numbers from user. Show:\n",
    "• Sum of only odd numbers.\n",
    "• Product of even numbers.'''\n",
    "\n",
    "\n",
    "llist1 = []\n",
    "for i in range(1, 11):\n",
    "    num = int(input(f\"Enter number {i}: \"))\n",
    "    list1.append(num)\n",
    "\n",
    "sumi = 0\n",
    "product = 1\n",
    "even_found = False\n",
    "\n",
    "for x in list1:\n",
    "    if x % 2 == 0:\n",
    "        product *= x\n",
    "        even_found = True\n",
    "    else:\n",
    "        sumi += x\n",
    "\n",
    "print(\"Sum of only odd numbers:\", sumi)\n",
    "if even_found:\n",
    "    print(\"Product of even numbers:\", product)\n",
    "else:\n",
    "    print(\"No even numbers entered. Product not applicable.\")\n",
    "\n"
   ]
  },
  {
   "cell_type": "code",
   "execution_count": null,
   "id": "011e1639-8e7b-4837-b9f6-c6b01e5b60dd",
   "metadata": {},
   "outputs": [],
   "source": []
  }
 ],
 "metadata": {
  "kernelspec": {
   "display_name": "Python [conda env:base] *",
   "language": "python",
   "name": "conda-base-py"
  },
  "language_info": {
   "codemirror_mode": {
    "name": "ipython",
    "version": 3
   },
   "file_extension": ".py",
   "mimetype": "text/x-python",
   "name": "python",
   "nbconvert_exporter": "python",
   "pygments_lexer": "ipython3",
   "version": "3.12.7"
  }
 },
 "nbformat": 4,
 "nbformat_minor": 5
}
